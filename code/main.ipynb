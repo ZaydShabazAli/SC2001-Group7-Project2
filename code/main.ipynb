{
 "cells": [
  {
   "cell_type": "markdown",
   "metadata": {},
   "source": [
    "# SC2001 LAB PROJECT 2"
   ]
  },
  {
   "cell_type": "markdown",
   "metadata": {},
   "source": [
    "### (B) USING MINIMIZING HEAP FOR PRIORITY QUEUE"
   ]
  },
  {
   "cell_type": "code",
   "execution_count": null,
   "metadata": {},
   "outputs": [],
   "source": []
  },
  {
   "cell_type": "markdown",
   "metadata": {},
   "source": [
    "#### Theoretical Time Complexity for minimizing heap for priority queue"
   ]
  },
  {
   "cell_type": "markdown",
   "metadata": {},
   "source": [
    "The input graph $G = (V, E)$ we're considering has $|V|$ number of vertices and $|E|$ number of edges.\n",
    "\n",
    "To analyse theoretical time complexity, we take into account a few things.\n",
    "\n",
    "##### 1. To enqueue the vertices: $ O (|V|) $\n",
    "Dijkstra's algorithm maintains a priority queue using the minimzing heap to store and retrieve the vertex with the smallest distance value. Hence, to enqueue all the vertices, it takes $O(|V|)$ time. \n",
    "\n",
    "##### 2. To extract the minimum vertex from the heap: $ O (|V| * log|V|) $\n",
    "We know that the vertex with the sallest distance is placed on top of the heap. Once the element is extracted, the minimising order of the heap has to be restored. For this, the heap has to be traversed to check if the parent nodes are smaller than the children and switching them if not. \n",
    "\n",
    "This time complexity is equivalent to the height of the binary tree: $O (log(|V|)) $\n",
    "\n",
    "Combining this with the number of vertices $|V|$, we have : $O(V * log(|V|))$\n",
    "\n",
    "##### 3. To extract the minimum vertex from the heap: $ O (|V| * log|V|) $"
   ]
  },
  {
   "cell_type": "markdown",
   "metadata": {},
   "source": []
  }
 ],
 "metadata": {
  "kernelspec": {
   "display_name": "Python 3",
   "language": "python",
   "name": "python3"
  },
  "language_info": {
   "codemirror_mode": {
    "name": "ipython",
    "version": 3
   },
   "file_extension": ".py",
   "mimetype": "text/x-python",
   "name": "python",
   "nbconvert_exporter": "python",
   "pygments_lexer": "ipython3",
   "version": "3.11.5"
  }
 },
 "nbformat": 4,
 "nbformat_minor": 2
}
